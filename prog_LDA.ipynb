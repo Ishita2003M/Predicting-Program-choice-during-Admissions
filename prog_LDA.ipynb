{
 "cells": [
  {
   "cell_type": "markdown",
   "id": "af493463-f7c6-46eb-81d0-3398eeac341d",
   "metadata": {},
   "source": [
    "LDA model for Predicting Program choice during Admissions"
   ]
  },
  {
   "cell_type": "code",
   "execution_count": 1,
   "id": "ffeddd3b-78fc-44db-b81c-c803239341ba",
   "metadata": {},
   "outputs": [],
   "source": [
    "# Step 1 - Importing the necessary libraries\n",
    "import pandas as pd\n",
    "import numpy as np\n",
    "from sklearn.model_selection import train_test_split\n",
    "from sklearn.preprocessing import StandardScaler\n",
    "from sklearn.discriminant_analysis import LinearDiscriminantAnalysis\n",
    "from sklearn.metrics import confusion_matrix, accuracy_score"
   ]
  },
  {
   "cell_type": "code",
   "execution_count": 2,
   "id": "f333debd-1c39-4396-8d46-6198d0860dd1",
   "metadata": {},
   "outputs": [
    {
     "data": {
      "text/html": [
       "<div>\n",
       "<style scoped>\n",
       "    .dataframe tbody tr th:only-of-type {\n",
       "        vertical-align: middle;\n",
       "    }\n",
       "\n",
       "    .dataframe tbody tr th {\n",
       "        vertical-align: top;\n",
       "    }\n",
       "\n",
       "    .dataframe thead th {\n",
       "        text-align: right;\n",
       "    }\n",
       "</style>\n",
       "<table border=\"1\" class=\"dataframe\">\n",
       "  <thead>\n",
       "    <tr style=\"text-align: right;\">\n",
       "      <th></th>\n",
       "      <th>id</th>\n",
       "      <th>Gender</th>\n",
       "      <th>race</th>\n",
       "      <th>ses</th>\n",
       "      <th>schtyp</th>\n",
       "      <th>prog</th>\n",
       "      <th>read</th>\n",
       "      <th>write</th>\n",
       "      <th>math</th>\n",
       "      <th>science</th>\n",
       "      <th>socst</th>\n",
       "    </tr>\n",
       "  </thead>\n",
       "  <tbody>\n",
       "    <tr>\n",
       "      <th>0</th>\n",
       "      <td>70</td>\n",
       "      <td>0</td>\n",
       "      <td>4</td>\n",
       "      <td>1</td>\n",
       "      <td>1</td>\n",
       "      <td>1</td>\n",
       "      <td>57</td>\n",
       "      <td>52</td>\n",
       "      <td>41</td>\n",
       "      <td>47</td>\n",
       "      <td>57</td>\n",
       "    </tr>\n",
       "    <tr>\n",
       "      <th>1</th>\n",
       "      <td>121</td>\n",
       "      <td>1</td>\n",
       "      <td>4</td>\n",
       "      <td>2</td>\n",
       "      <td>1</td>\n",
       "      <td>3</td>\n",
       "      <td>68</td>\n",
       "      <td>59</td>\n",
       "      <td>53</td>\n",
       "      <td>63</td>\n",
       "      <td>61</td>\n",
       "    </tr>\n",
       "    <tr>\n",
       "      <th>2</th>\n",
       "      <td>86</td>\n",
       "      <td>0</td>\n",
       "      <td>4</td>\n",
       "      <td>3</td>\n",
       "      <td>1</td>\n",
       "      <td>1</td>\n",
       "      <td>44</td>\n",
       "      <td>33</td>\n",
       "      <td>54</td>\n",
       "      <td>58</td>\n",
       "      <td>31</td>\n",
       "    </tr>\n",
       "    <tr>\n",
       "      <th>3</th>\n",
       "      <td>141</td>\n",
       "      <td>0</td>\n",
       "      <td>4</td>\n",
       "      <td>3</td>\n",
       "      <td>1</td>\n",
       "      <td>3</td>\n",
       "      <td>63</td>\n",
       "      <td>44</td>\n",
       "      <td>47</td>\n",
       "      <td>53</td>\n",
       "      <td>56</td>\n",
       "    </tr>\n",
       "    <tr>\n",
       "      <th>4</th>\n",
       "      <td>172</td>\n",
       "      <td>0</td>\n",
       "      <td>4</td>\n",
       "      <td>2</td>\n",
       "      <td>1</td>\n",
       "      <td>2</td>\n",
       "      <td>47</td>\n",
       "      <td>52</td>\n",
       "      <td>57</td>\n",
       "      <td>53</td>\n",
       "      <td>61</td>\n",
       "    </tr>\n",
       "  </tbody>\n",
       "</table>\n",
       "</div>"
      ],
      "text/plain": [
       "    id  Gender  race  ses  schtyp  prog  read  write  math  science  socst\n",
       "0   70       0     4    1       1     1    57     52    41       47     57\n",
       "1  121       1     4    2       1     3    68     59    53       63     61\n",
       "2   86       0     4    3       1     1    44     33    54       58     31\n",
       "3  141       0     4    3       1     3    63     44    47       53     56\n",
       "4  172       0     4    2       1     2    47     52    57       53     61"
      ]
     },
     "execution_count": 2,
     "metadata": {},
     "output_type": "execute_result"
    }
   ],
   "source": [
    "# Step 2 - Loading the dataset\n",
    "df = pd.read_csv(\"D:\\\\ishita\\\\college_py\\\\hsb2.csv\")\n",
    "df.head()"
   ]
  },
  {
   "cell_type": "code",
   "execution_count": 3,
   "id": "841d2824-cb1c-45be-a78e-68e7b53aadd7",
   "metadata": {},
   "outputs": [
    {
     "data": {
      "text/html": [
       "<div>\n",
       "<style scoped>\n",
       "    .dataframe tbody tr th:only-of-type {\n",
       "        vertical-align: middle;\n",
       "    }\n",
       "\n",
       "    .dataframe tbody tr th {\n",
       "        vertical-align: top;\n",
       "    }\n",
       "\n",
       "    .dataframe thead th {\n",
       "        text-align: right;\n",
       "    }\n",
       "</style>\n",
       "<table border=\"1\" class=\"dataframe\">\n",
       "  <thead>\n",
       "    <tr style=\"text-align: right;\">\n",
       "      <th></th>\n",
       "      <th>id</th>\n",
       "      <th>Gender</th>\n",
       "      <th>race</th>\n",
       "      <th>ses</th>\n",
       "      <th>schtyp</th>\n",
       "      <th>prog</th>\n",
       "      <th>read</th>\n",
       "      <th>write</th>\n",
       "      <th>math</th>\n",
       "      <th>science</th>\n",
       "      <th>socst</th>\n",
       "      <th>prog_status</th>\n",
       "    </tr>\n",
       "  </thead>\n",
       "  <tbody>\n",
       "    <tr>\n",
       "      <th>0</th>\n",
       "      <td>70</td>\n",
       "      <td>0</td>\n",
       "      <td>4</td>\n",
       "      <td>1</td>\n",
       "      <td>1</td>\n",
       "      <td>1</td>\n",
       "      <td>57</td>\n",
       "      <td>52</td>\n",
       "      <td>41</td>\n",
       "      <td>47</td>\n",
       "      <td>57</td>\n",
       "      <td>BBA</td>\n",
       "    </tr>\n",
       "    <tr>\n",
       "      <th>1</th>\n",
       "      <td>121</td>\n",
       "      <td>1</td>\n",
       "      <td>4</td>\n",
       "      <td>2</td>\n",
       "      <td>1</td>\n",
       "      <td>3</td>\n",
       "      <td>68</td>\n",
       "      <td>59</td>\n",
       "      <td>53</td>\n",
       "      <td>63</td>\n",
       "      <td>61</td>\n",
       "      <td>B tech</td>\n",
       "    </tr>\n",
       "    <tr>\n",
       "      <th>2</th>\n",
       "      <td>86</td>\n",
       "      <td>0</td>\n",
       "      <td>4</td>\n",
       "      <td>3</td>\n",
       "      <td>1</td>\n",
       "      <td>1</td>\n",
       "      <td>44</td>\n",
       "      <td>33</td>\n",
       "      <td>54</td>\n",
       "      <td>58</td>\n",
       "      <td>31</td>\n",
       "      <td>BBA</td>\n",
       "    </tr>\n",
       "    <tr>\n",
       "      <th>3</th>\n",
       "      <td>141</td>\n",
       "      <td>0</td>\n",
       "      <td>4</td>\n",
       "      <td>3</td>\n",
       "      <td>1</td>\n",
       "      <td>3</td>\n",
       "      <td>63</td>\n",
       "      <td>44</td>\n",
       "      <td>47</td>\n",
       "      <td>53</td>\n",
       "      <td>56</td>\n",
       "      <td>B tech</td>\n",
       "    </tr>\n",
       "    <tr>\n",
       "      <th>4</th>\n",
       "      <td>172</td>\n",
       "      <td>0</td>\n",
       "      <td>4</td>\n",
       "      <td>2</td>\n",
       "      <td>1</td>\n",
       "      <td>2</td>\n",
       "      <td>47</td>\n",
       "      <td>52</td>\n",
       "      <td>57</td>\n",
       "      <td>53</td>\n",
       "      <td>61</td>\n",
       "      <td>MBA</td>\n",
       "    </tr>\n",
       "  </tbody>\n",
       "</table>\n",
       "</div>"
      ],
      "text/plain": [
       "    id  Gender  race  ses  schtyp  prog  read  write  math  science  socst  \\\n",
       "0   70       0     4    1       1     1    57     52    41       47     57   \n",
       "1  121       1     4    2       1     3    68     59    53       63     61   \n",
       "2   86       0     4    3       1     1    44     33    54       58     31   \n",
       "3  141       0     4    3       1     3    63     44    47       53     56   \n",
       "4  172       0     4    2       1     2    47     52    57       53     61   \n",
       "\n",
       "  prog_status  \n",
       "0         BBA  \n",
       "1      B tech  \n",
       "2         BBA  \n",
       "3      B tech  \n",
       "4         MBA  "
      ]
     },
     "execution_count": 3,
     "metadata": {},
     "output_type": "execute_result"
    }
   ],
   "source": [
    "# Step 3 - Adding a categorical column for 'prog'\n",
    "df['prog_status'] = df['prog'].map({1: 'BBA', 2: 'MBA', 3: 'B tech'})\n",
    "df.head()"
   ]
  },
  {
   "cell_type": "code",
   "execution_count": 4,
   "id": "933bcffd-db24-4406-8f6b-a49eeb75ebe1",
   "metadata": {},
   "outputs": [
    {
     "name": "stdout",
     "output_type": "stream",
     "text": [
      "Number of rows: 200\n",
      "Number of columns: 12\n"
     ]
    }
   ],
   "source": [
    "# Step 4 - Checking the number of rows and columns\n",
    "num_rows, num_columns = df.shape  \n",
    "print(f\"Number of rows: {num_rows}\\nNumber of columns: {num_columns}\")"
   ]
  },
  {
   "cell_type": "code",
   "execution_count": 5,
   "id": "fb55b7a9-5157-4c7f-bc73-8b19b256741f",
   "metadata": {},
   "outputs": [
    {
     "data": {
      "text/plain": [
       "id             0\n",
       "Gender         0\n",
       "race           0\n",
       "ses            0\n",
       "schtyp         0\n",
       "prog           0\n",
       "read           0\n",
       "write          0\n",
       "math           0\n",
       "science        0\n",
       "socst          0\n",
       "prog_status    0\n",
       "dtype: int64"
      ]
     },
     "execution_count": 5,
     "metadata": {},
     "output_type": "execute_result"
    }
   ],
   "source": [
    "# Step 5 - Checking for missing values\n",
    "df.isnull().sum()"
   ]
  },
  {
   "cell_type": "code",
   "execution_count": 6,
   "id": "b94c004f-43d1-48ab-bd2b-071c7ddd7137",
   "metadata": {},
   "outputs": [],
   "source": [
    "# Step 6 - Creating X and y dataframes\n",
    "X = df[['read', 'write', 'math', 'science', 'socst']]\n",
    "y = df['prog']"
   ]
  },
  {
   "cell_type": "code",
   "execution_count": 7,
   "id": "40f79d31-efb6-4567-924c-05f4c7e0910f",
   "metadata": {},
   "outputs": [],
   "source": [
    "# Step 7 - Standardizing the features\n",
    "scaler = StandardScaler()\n",
    "X_scaled = scaler.fit_transform(X)\n",
    "x_scaled = pd.DataFrame(X_scaled, columns=X.columns)"
   ]
  },
  {
   "cell_type": "code",
   "execution_count": 8,
   "id": "32a804ff-f06e-4f86-8170-7002a1a4c2e9",
   "metadata": {},
   "outputs": [],
   "source": [
    "# Step 8 - Splitting the data\n",
    "x_train, x_test, y_train, y_test = train_test_split(x_scaled, y, test_size=0.3, random_state=42)"
   ]
  },
  {
   "cell_type": "code",
   "execution_count": 9,
   "id": "5ea4a84d-9827-47ee-b9f7-ac98de43b907",
   "metadata": {},
   "outputs": [],
   "source": [
    "# Step 9 - Training LDA model for making predictions\n",
    "lda = LinearDiscriminantAnalysis()\n",
    "lda.fit(x_train, y_train)\n",
    "y_pred = lda.predict(x_test)"
   ]
  },
  {
   "cell_type": "code",
   "execution_count": 10,
   "id": "8335881f-622a-40e6-a0d4-2016fb6af9d2",
   "metadata": {},
   "outputs": [
    {
     "name": "stdout",
     "output_type": "stream",
     "text": [
      "\n",
      "Confusion Matrix:\n",
      " [[ 1  8  7]\n",
      " [ 0 18  9]\n",
      " [ 1  5 11]]\n",
      "\n",
      "Accuracy: 50.0 %\n"
     ]
    }
   ],
   "source": [
    "# Step 10 - Evaluate the model\n",
    "conf_matrix = confusion_matrix(y_test, y_pred)\n",
    "accuracy = accuracy_score(y_test, y_pred)\n",
    "\n",
    "print(\"\\nConfusion Matrix:\\n\", conf_matrix)\n",
    "print(\"\\nAccuracy:\", round(accuracy * 100, 2), \"%\")"
   ]
  },
  {
   "cell_type": "code",
   "execution_count": 11,
   "id": "ae8e377f-325a-41b6-94aa-1d9241eedd88",
   "metadata": {},
   "outputs": [
    {
     "name": "stdout",
     "output_type": "stream",
     "text": [
      "\n",
      "Actual vs. Predicted Program Choices:\n",
      "   Actual Program Predicted Program\n",
      "0            BBA               MBA\n",
      "1            BBA            B tech\n",
      "2            BBA            B tech\n",
      "3            BBA            B tech\n",
      "4         B tech               MBA\n",
      "5         B tech            B tech\n",
      "6         B tech            B tech\n",
      "7            BBA               BBA\n",
      "8            BBA               MBA\n",
      "9            BBA               MBA\n"
     ]
    }
   ],
   "source": [
    "# Step 11: Display actual vs predicted choices with program names\n",
    "prog_mapping = {1: 'BBA', 2: 'MBA', 3: 'B tech'}  # Mapping dictionary\n",
    "\n",
    "comparison_df = pd.DataFrame({\n",
    "    'Actual Program': y_test.map(prog_mapping).values,   # Convert numbers to names\n",
    "    'Predicted Program': pd.Series(y_pred).map(prog_mapping).values\n",
    "})\n",
    "\n",
    "print(\"\\nActual vs. Predicted Program Choices:\\n\", comparison_df.head(10))"
   ]
  }
 ],
 "metadata": {
  "kernelspec": {
   "display_name": "Python 3 (ipykernel)",
   "language": "python",
   "name": "python3"
  },
  "language_info": {
   "codemirror_mode": {
    "name": "ipython",
    "version": 3
   },
   "file_extension": ".py",
   "mimetype": "text/x-python",
   "name": "python",
   "nbconvert_exporter": "python",
   "pygments_lexer": "ipython3",
   "version": "3.11.7"
  }
 },
 "nbformat": 4,
 "nbformat_minor": 5
}
